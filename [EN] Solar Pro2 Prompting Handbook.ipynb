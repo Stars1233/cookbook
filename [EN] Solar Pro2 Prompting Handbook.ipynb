{
 "cells": [
  {
   "cell_type": "markdown",
   "metadata": {
    "vscode": {
     "languageId": "raw"
    }
   },
   "source": [
    "# **Solar Pro2 Prompting Handbook**\n",
    "\n",
    "## **1. Overview**\n",
    "\n",
    "solar-pro2 is a reasoning model optimized for high-performance inference and diverse task execution. This guide presents a systematic prompting methodology to help developers maximize the enhanced capabilities of solar-pro2. Since solar-pro2 is highly sensitive to clear and structured instructions, effective prompt design directly impacts performance. Along with existing general best practices, a prompt approach tailored to solar-pro2's characteristics is necessary.\n",
    "\n",
    "All examples in this guide consist of executable code that can be immediately tested and verified. Experience the performance by directly running the prompt examples in each section. Please follow these steps before running this notebook:\n",
    "\n",
    "1. **API Key Issuance**: Sign up at [Upstage Console](https://console.upstage.ai/api-keys?api=chat) and obtain your API key\n",
    "2. **Environment Variable Setup**: Set the obtained API key as an environment variable or input it directly\n",
    "3. **Package Installation**: Install the required packages and complete the API setup\n",
    "\n",
    "**Note**: Please be careful not to expose your API key externally!\n"
   ]
  },
  {
   "cell_type": "code",
   "execution_count": 1,
   "metadata": {},
   "outputs": [
    {
     "name": "stdout",
     "output_type": "stream",
     "text": [
      "📦 Installing required packages...\n",
      "Requirement already satisfied: openai>=1.0.0 in /Users/jo-eunbi/Workspace/.venv/lib/python3.9/site-packages (1.79.0)\n",
      "Requirement already satisfied: anyio<5,>=3.5.0 in /Users/jo-eunbi/Workspace/.venv/lib/python3.9/site-packages (from openai>=1.0.0) (4.9.0)\n",
      "Requirement already satisfied: distro<2,>=1.7.0 in /Users/jo-eunbi/Workspace/.venv/lib/python3.9/site-packages (from openai>=1.0.0) (1.9.0)\n",
      "Requirement already satisfied: httpx<1,>=0.23.0 in /Users/jo-eunbi/Workspace/.venv/lib/python3.9/site-packages (from openai>=1.0.0) (0.28.1)\n",
      "Requirement already satisfied: jiter<1,>=0.4.0 in /Users/jo-eunbi/Workspace/.venv/lib/python3.9/site-packages (from openai>=1.0.0) (0.9.0)\n",
      "Requirement already satisfied: pydantic<3,>=1.9.0 in /Users/jo-eunbi/Workspace/.venv/lib/python3.9/site-packages (from openai>=1.0.0) (2.11.1)\n",
      "Requirement already satisfied: sniffio in /Users/jo-eunbi/Workspace/.venv/lib/python3.9/site-packages (from openai>=1.0.0) (1.3.1)\n",
      "Requirement already satisfied: tqdm>4 in /Users/jo-eunbi/Workspace/.venv/lib/python3.9/site-packages (from openai>=1.0.0) (4.67.1)\n",
      "Requirement already satisfied: typing-extensions<5,>=4.11 in /Users/jo-eunbi/Workspace/.venv/lib/python3.9/site-packages (from openai>=1.0.0) (4.13.0)\n",
      "Requirement already satisfied: exceptiongroup>=1.0.2 in /Users/jo-eunbi/Workspace/.venv/lib/python3.9/site-packages (from anyio<5,>=3.5.0->openai>=1.0.0) (1.2.2)\n",
      "Requirement already satisfied: idna>=2.8 in /Users/jo-eunbi/Workspace/.venv/lib/python3.9/site-packages (from anyio<5,>=3.5.0->openai>=1.0.0) (3.10)\n",
      "Requirement already satisfied: certifi in /Users/jo-eunbi/Workspace/.venv/lib/python3.9/site-packages (from httpx<1,>=0.23.0->openai>=1.0.0) (2025.1.31)\n",
      "Requirement already satisfied: httpcore==1.* in /Users/jo-eunbi/Workspace/.venv/lib/python3.9/site-packages (from httpx<1,>=0.23.0->openai>=1.0.0) (1.0.7)\n",
      "Requirement already satisfied: h11<0.15,>=0.13 in /Users/jo-eunbi/Workspace/.venv/lib/python3.9/site-packages (from httpcore==1.*->httpx<1,>=0.23.0->openai>=1.0.0) (0.14.0)\n",
      "Requirement already satisfied: annotated-types>=0.6.0 in /Users/jo-eunbi/Workspace/.venv/lib/python3.9/site-packages (from pydantic<3,>=1.9.0->openai>=1.0.0) (0.7.0)\n",
      "Requirement already satisfied: pydantic-core==2.33.0 in /Users/jo-eunbi/Workspace/.venv/lib/python3.9/site-packages (from pydantic<3,>=1.9.0->openai>=1.0.0) (2.33.0)\n",
      "Requirement already satisfied: typing-inspection>=0.4.0 in /Users/jo-eunbi/Workspace/.venv/lib/python3.9/site-packages (from pydantic<3,>=1.9.0->openai>=1.0.0) (0.4.0)\n"
     ]
    },
    {
     "name": "stderr",
     "output_type": "stream",
     "text": [
      "\n",
      "\u001b[1m[\u001b[0m\u001b[34;49mnotice\u001b[0m\u001b[1;39;49m]\u001b[0m\u001b[39;49m A new release of pip is available: \u001b[0m\u001b[31;49m25.0.1\u001b[0m\u001b[39;49m -> \u001b[0m\u001b[32;49m25.1.1\u001b[0m\n",
      "\u001b[1m[\u001b[0m\u001b[34;49mnotice\u001b[0m\u001b[1;39;49m]\u001b[0m\u001b[39;49m To update, run: \u001b[0m\u001b[32;49mpip install --upgrade pip\u001b[0m\n"
     ]
    },
    {
     "name": "stdout",
     "output_type": "stream",
     "text": [
      "✅ openai>=1.0.0 installation completed\n",
      "Requirement already satisfied: requests in /Users/jo-eunbi/Workspace/.venv/lib/python3.9/site-packages (2.32.3)\n",
      "Requirement already satisfied: charset-normalizer<4,>=2 in /Users/jo-eunbi/Workspace/.venv/lib/python3.9/site-packages (from requests) (3.4.1)\n",
      "Requirement already satisfied: idna<4,>=2.5 in /Users/jo-eunbi/Workspace/.venv/lib/python3.9/site-packages (from requests) (3.10)\n",
      "Requirement already satisfied: urllib3<3,>=1.21.1 in /Users/jo-eunbi/Workspace/.venv/lib/python3.9/site-packages (from requests) (2.3.0)\n",
      "Requirement already satisfied: certifi>=2017.4.17 in /Users/jo-eunbi/Workspace/.venv/lib/python3.9/site-packages (from requests) (2025.1.31)\n"
     ]
    },
    {
     "name": "stderr",
     "output_type": "stream",
     "text": [
      "\n",
      "\u001b[1m[\u001b[0m\u001b[34;49mnotice\u001b[0m\u001b[1;39;49m]\u001b[0m\u001b[39;49m A new release of pip is available: \u001b[0m\u001b[31;49m25.0.1\u001b[0m\u001b[39;49m -> \u001b[0m\u001b[32;49m25.1.1\u001b[0m\n",
      "\u001b[1m[\u001b[0m\u001b[34;49mnotice\u001b[0m\u001b[1;39;49m]\u001b[0m\u001b[39;49m To update, run: \u001b[0m\u001b[32;49mpip install --upgrade pip\u001b[0m\n"
     ]
    },
    {
     "name": "stdout",
     "output_type": "stream",
     "text": [
      "✅ requests installation completed\n",
      "Requirement already satisfied: python-dotenv in /Users/jo-eunbi/Workspace/.venv/lib/python3.9/site-packages (1.0.1)\n",
      "✅ python-dotenv installation completed\n"
     ]
    },
    {
     "name": "stderr",
     "output_type": "stream",
     "text": [
      "\n",
      "\u001b[1m[\u001b[0m\u001b[34;49mnotice\u001b[0m\u001b[1;39;49m]\u001b[0m\u001b[39;49m A new release of pip is available: \u001b[0m\u001b[31;49m25.0.1\u001b[0m\u001b[39;49m -> \u001b[0m\u001b[32;49m25.1.1\u001b[0m\n",
      "\u001b[1m[\u001b[0m\u001b[34;49mnotice\u001b[0m\u001b[1;39;49m]\u001b[0m\u001b[39;49m To update, run: \u001b[0m\u001b[32;49mpip install --upgrade pip\u001b[0m\n"
     ]
    }
   ],
   "source": [
    "# Install required packages\n",
    "import subprocess\n",
    "import sys\n",
    "\n",
    "def install_package(package):\n",
    "    try:\n",
    "        subprocess.check_call([sys.executable, \"-m\", \"pip\", \"install\", package])\n",
    "        print(f\"✅ {package} installation completed\")\n",
    "    except subprocess.CalledProcessError:\n",
    "        print(f\"❌ {package} installation failed\")\n",
    "\n",
    "# Install required packages\n",
    "packages = [\n",
    "    \"openai>=1.0.0\",\n",
    "    \"requests\",\n",
    "    \"python-dotenv\"\n",
    "]\n",
    "\n",
    "print(\"📦 Installing required packages...\")\n",
    "for package in packages:\n",
    "    install_package(package)\n"
   ]
  },
  {
   "cell_type": "code",
   "execution_count": 2,
   "metadata": {},
   "outputs": [
    {
     "name": "stdout",
     "output_type": "stream",
     "text": [
      "🔑 Upstage API key is not set in environment variables.\n",
      "Please input the API key directly or set it in the UPSTAGE_API_KEY environment variable.\n",
      "\n",
      "Option 1: Direct input (valid only for current session)\n",
      "✅ API key has been set!\n",
      "solar-pro2 API is ready!\n"
     ]
    }
   ],
   "source": [
    "import os\n",
    "import openai\n",
    "from openai import OpenAI\n",
    "import getpass\n",
    "from dotenv import load_dotenv\n",
    "\n",
    "# Load .env file if it exists\n",
    "load_dotenv()\n",
    "\n",
    "\n",
    "def setup_api_key():\n",
    "    \"\"\"Function to setup API key\"\"\"\n",
    "    api_key = os.getenv(\"UPSTAGE_API_KEY\")\n",
    "\n",
    "    if not api_key:\n",
    "        print(\"🔑 Upstage API key is not set in environment variables.\")\n",
    "        print(\"Please input the API key directly or set it in the UPSTAGE_API_KEY environment variable.\")\n",
    "        print(\"\\nOption 1: Direct input (valid only for current session)\")\n",
    "        api_key = getpass.getpass(\"Enter your Upstage API key: \")\n",
    "\n",
    "    if api_key:\n",
    "        os.environ[\"UPSTAGE_API_KEY\"] = api_key\n",
    "        print(\"✅ API key has been set!\")\n",
    "        return api_key\n",
    "    else:\n",
    "        print(\"❌ API key has not been set.\")\n",
    "        return None\n",
    "\n",
    "\n",
    "# Setup API key\n",
    "api_key = setup_api_key()\n",
    "\n",
    "# Setup OpenAI client (using Upstage API endpoint)\n",
    "if api_key:\n",
    "    client = OpenAI(api_key=api_key, base_url=\"https://api.upstage.ai/v1/solar\")\n",
    "    print(\"solar-pro2 API is ready!\")\n",
    "else:\n",
    "    print(\"⚠️ Unable to setup API client. Please check your API key.\")"
   ]
  },
  {
   "cell_type": "markdown",
   "metadata": {
    "vscode": {
     "languageId": "raw"
    }
   },
   "source": [
    "### **1.1 What is Reasoning?**\n",
    "\n",
    "solar-pro2 improves performance by allowing the model to generate an internal \"chain of thought\" before responding. Through this, the model can:\n",
    "- Break down complex questions into smaller steps\n",
    "- Decompose complex queries into logical subtasks\n",
    "- Accurately perform complex and numerous instructions\n",
    "\n",
    "Leverage the model's structured chain of thought process for complex multi-step tasks (e.g., document analysis, code generation, complex logical problems).\n"
   ]
  },
  {
   "cell_type": "markdown",
   "metadata": {
    "vscode": {
     "languageId": "raw"
    }
   },
   "source": [
    "---\n",
    "\n",
    "## **2. Parameter Usage**\n",
    "\n",
    "### **2.1 Basic Parameters**\n",
    "\n",
    "#### 2.1.1 Temperature\n",
    "\n",
    "| Value Range | Recommended Use | Characteristics |\n",
    "|-------------|-----------------|-----------------|\n",
    "| **0.0-0.3** | Translation, summarization, analysis | Tasks where consistency is important |\n",
    "| **0.4-0.7** | General conversation, explanation | Balanced creativity and accuracy |\n",
    "| **0.8-2.0** | Writing, brainstorming | Creative work |\n",
    "\n",
    "#### 2.1.2 Max Tokens\n",
    "\n",
    "| Token Range | Recommended Use |\n",
    "|-------------|-----------------|\n",
    "| **50-200** | Keyword extraction, classification |\n",
    "| **200-800** | Summarization, explanation |\n",
    "| **1000+** | Detailed analysis, long-form writing |\n",
    "\n",
    "#### 2.1.3 Top_p\n",
    "\n",
    "| Value Range | Recommended Use |\n",
    "|-------------|-----------------|\n",
    "| **0.1-0.5** | Technical documents, accurate information |\n",
    "| **0.6-0.8** | General purpose |\n",
    "| **0.9-1.0** | Creative work |\n"
   ]
  },
  {
   "cell_type": "markdown",
   "metadata": {
    "vscode": {
     "languageId": "raw"
    }
   },
   "source": [
    "### **2.2 Reasoning Effort**\n",
    "\n",
    "The solar-pro2 model is a hybrid model that can select reasoning mode based on task type. The `reasoning_effort` parameter allows two settings: low/high.\n",
    "\n",
    "#### 2.2.1 Low Reasoning Effort\n",
    "\n",
    "This is a mode set with reasoning_effort=\"low\" for general tasks that do not require complex reasoning processes. This mode offers fast processing speed and cost efficiency, making it suitable for high-volume simple tasks or services requiring real-time responses.\n",
    "\n",
    "**Use Cases:**\n",
    "- General Q&A: Fact verification, definition explanation\n",
    "- Simple translation: Direct translation, basic language conversion\n",
    "- Information extraction: Extracting specific data from text\n",
    "- Format conversion: Data format changes\n",
    "\n",
    "**Example: Information Extraction**\n"
   ]
  },
  {
   "cell_type": "code",
   "execution_count": 3,
   "metadata": {},
   "outputs": [
    {
     "name": "stdout",
     "output_type": "stream",
     "text": [
      "- Person names: John Smith, Sarah Johnson\n",
      "- Dates: March 15, 2024\n",
      "- Locations: Paris, Louvre Museum\n"
     ]
    }
   ],
   "source": [
    "response = client.chat.completions.create(\n",
    "    model=\"solar-pro2\",\n",
    "    messages=[\n",
    "        {\n",
    "            \"role\": \"system\",\n",
    "            \"content\": \"\"\"Extract the following information from the [Text] I give and return as a list without any explanation:\n",
    "- Person names\n",
    "- Dates\n",
    "- Locations\"\"\"\n",
    "        },\n",
    "        {\n",
    "            \"role\": \"user\",\n",
    "            \"content\": \"\"\"Text: \"John Smith visited Paris on March 15, 2024, and met with Sarah Johnson at the Louvre Museum.\\\"\"\"\"\n",
    "        }\n",
    "    ],\n",
    "    max_tokens=300,\n",
    "    temperature=0.2,\n",
    "    reasoning_effort=\"low\"\n",
    ")\n",
    "\n",
    "print(response.choices[0].message.content)"
   ]
  },
  {
   "cell_type": "markdown",
   "metadata": {
    "vscode": {
     "languageId": "raw"
    }
   },
   "source": [
    "#### 2.2.2 High Reasoning Effort\n",
    "\n",
    "Setting reasoning_effort=\"high\" allows you to utilize the model's reasoning mode. This mode ensures that the model goes through a reasoning process before generating an answer, optimized for tasks requiring complex analysis and structured thinking. In this mode, the model systematically breaks down problems step by step and performs logical verification at each stage to generate more accurate and reliable results.\n",
    "\n",
    "**Use Cases:**\n",
    "- Mathematical problem solving: Multi-step calculations, proofs\n",
    "- Logical reasoning: Syllogism, causal relationship analysis\n",
    "- Complex analysis: Comprehensive review from multiple perspectives\n",
    "- Strategy development: Planning considering various factors\n",
    "\n",
    "**Example: Legal Case Entity Extraction**\n",
    "\n",
    "Unlike the previous example, this is an information extraction task requiring complex calculations and logical verification. It goes beyond simply finding information from text to perform damage calculation through numerical computation and analyze discrepancies with claimed amounts."
   ]
  },
  {
   "cell_type": "code",
   "execution_count": null,
   "metadata": {},
   "outputs": [
    {
     "name": "stdout",
     "output_type": "stream",
     "text": [
      "- **Parties**:  \n",
      "  - Landlord: Sarah Kim  \n",
      "  - Tenant: Mike Johnson  \n",
      "\n",
      "- **Property details**:  \n",
      "  - Location: Downtown apartment  \n",
      "  - Size: N/A  \n",
      "  - Values: Monthly rent $2,200 (lease term unspecified)  \n",
      "\n",
      "- **Damage calculations**:  \n",
      "  - Repair costs: $3,500 (water damage)  \n",
      "  - Lost rent: 2.5 months × $2,200 = **$5,500**  \n",
      "  - **Total claimed**: $8,500  \n",
      "  - **Calculated total**: $3,500 + $5,500 = **$9,000**  \n",
      "\n",
      "- **Timeline**:  \n",
      "  - March 2024: Water damage occurred  \n",
      "  - July 2024: Lease end date (tenant left 2.5 months early)  \n",
      "  - Duration of unpaid rent: 2.5 months  \n",
      "\n",
      "- **Analysis**:  \n",
      "  - Calculated total ($9,000) **does not match** claimed amount ($8,500).  \n",
      "  - Discrepancy of **$500** unaccounted for in the claim.\n"
     ]
    }
   ],
   "source": [
    "response = client.chat.completions.create(\n",
    "   model=\"solar-pro2\",\n",
    "   messages=[\n",
    "       {\n",
    "           \"role\": \"system\",\n",
    "           \"content\": \"\"\"Extract property dispute details from the [Text] and return as lists only:\n",
    "- Parties: [names and roles]\n",
    "- Property details: [location, size, values]\n",
    "- Damage calculations: [repair costs + lost rent with totals]\n",
    "- Timeline: [key dates and duration of issues]\n",
    "- Analysis: [verify if calculated total matches claimed amount, note any discrepancies]\"\"\"\n",
    "       },\n",
    "       {\n",
    "           \"role\": \"user\",\n",
    "           \"content\": \"\"\"Text: \"Landlord Sarah Kim is suing tenant Mike Johnson for $8,500 in damages to her downtown apartment. The lease shows monthly rent of $2,200. Johnson caused water damage in March 2024 requiring $3,500 in repairs. He also broke the lease early, leaving 2.5 months of unpaid rent before the July 2024 lease end date.\\\"\"\"\"\n",
    "       }\n",
    "   ],\n",
    "   max_tokens=8000, # Sufficient token count setting for reasoning\n",
    "   temperature=0.2,\n",
    "   reasoning_effort=\"high\"\n",
    ")\n",
    "\n",
    "print(response.choices[0].message.content)"
   ]
  },
  {
   "cell_type": "markdown",
   "metadata": {},
   "source": [
    "The reasoning process includes the following steps, leading to more accurate and higher-quality answers. When using reasoning mode, it is **recommended to set `max_token` to 4000 or higher** to include sufficient reasoning processes for deriving answers.\n",
    "\n",
    "| Reasoning Step | Example of Model's Reasoning Content |\n",
    "|----------------|-------------------------------------|\n",
    "| **Step-by-step planning and task breakdown** | \"First, I'll identify the parties involved. The landlord is Sarah Kim and the tenant is Mike Johnson. Their roles are clear from the text.\" |\n",
    "| **Sequential information processing** | \"Next, property details. The text mentions a downtown apartment, but there's no info on size or specific values beyond rent.\" |\n",
    "| **Mathematical calculation and verification** | \"For damage calculations, the repair costs are $3,500 from water damage. The monthly rent is $2,200, so 2.5 months would be $5,500.\" \"Let me double-check. 2.5 months at $2,200 is 2.5 * 2200 = 5,500. Plus 3,500 repairs equals 9,000.\" |\n",
    "| **Identifying reasoning contradictions and cause analysis** | \"But the landlord is suing for $8,500. There's a discrepancy here. The total calculated is $9,000, but the claim is $8,500.\" \"Maybe the landlord is not claiming the full 2.5 months? Need to mention this discrepancy.\" |\n",
    "| **Final verification and structuring** | \"Make sure each section is clear and only includes the information from the text.\" \"Alright, putting it all together now.\" |"
   ]
  },
  {
   "cell_type": "markdown",
   "metadata": {
    "vscode": {
     "languageId": "raw"
    }
   },
   "source": [
    "#### 2.2.3 High Reasoning Effort: When to Choose?\n",
    "\n",
    "**Basic Strategy:** We recommend using reasoning_effort=\"high\" only when quality is absolutely critical, after first understanding the nature of the task.\n",
    "\n",
    "*Speed and output tokens may vary depending on task type.\n",
    "\n",
    "| Category | reasoning_effort=\"high\" | reasoning_effort=\"low\" |\n",
    "|----------|------------------------|----------------------|\n",
    "| Processing Speed | Relatively slow | Can process about 3x faster |\n",
    "| Output Tokens | Includes reasoning process tokens | Can reduce output tokens by approximately 70% |\n",
    "\n",
    "Set appropriate parameters through these questions:\n",
    "\n",
    "1) Quality vs Efficiency Priority\n",
    "- Is result accuracy absolutely critical? → reasoning_effort=\"high\"\n",
    "- Are processing speed and cost more important? → reasoning_effort=\"low\"\n",
    "\n",
    "2) Task Complexity Assessment\n",
    "- Do you need multi-step logical thinking? → reasoning_effort=\"high\"\n",
    "- Is it simple information provision or conversion work? → reasoning_effort=\"low\"\n",
    "\n",
    "3) Usage Environment Consideration\n",
    "- Is it a service that needs real-time responses? → reasoning_effort=\"low\"\n"
   ]
  },
  {
   "cell_type": "markdown",
   "metadata": {
    "vscode": {
     "languageId": "raw"
    }
   },
   "source": [
    "---\n",
    "\n",
    "## **3. Prompt Structure Design**\n",
    "\n",
    "### **3.1 Core Elements**\n",
    "\n",
    "Effective prompts consist of the following elements. Each element directly affects the model's comprehension and output quality, so they must be carefully designed according to the task characteristics:\n",
    "\n",
    "* **Role**: Define the model's expertise and perspective\n",
    "   * Activate domain-specific knowledge\n",
    "   * Set response tone and style\n",
    "* **Task**: Clear definition of the work to be performed\n",
    "   * **Instructions**: Specific execution methods\n",
    "   * **Constraints**: Rules and limitations to be followed\n",
    "* **Output Format**: Define output structure and style\n",
    "   * **Samples**: Concrete examples of expected output\n",
    "* **User Input**: Actual data to be processed\n",
    "   * **Contexts**: Background information needed for task execution\n",
    "   * **Query**: Specific requests\n",
    "\n",
    "### **3.2 Structural Combination Patterns**\n",
    "\n",
    "Prompt structure should be combined differently according to task complexity and requirements. Since solar-pro2 understands structured information well, appropriate structure selection is key to performance improvement.\n",
    "\n",
    "#### 3.2.1 Basic Combination\n",
    "Suitable for simple tasks or general Q&A. Used when quick responses are needed and there are no complex constraints.\n",
    "\n",
    "**Structure:** Role → Instructions → Query\n",
    "\n",
    "#### 3.2.2 Fixed Output Format\n",
    "Used when output in a predetermined format is required. Suitable for API responses, data transformation, structured report writing, etc.\n",
    "\n",
    "**Structure:** Role → Instructions → Constraints → Samples → Query\n",
    "\n",
    "#### 3.2.3 RAG (Retrieval-Augmented Generation)\n",
    "Used for answer generation utilizing external information. Suitable for document analysis, information retrieval-based responses, knowledge base utilization, etc.\n",
    "\n",
    "**Structure:** Contexts → Role → Instructions → Query\n"
   ]
  },
  {
   "cell_type": "markdown",
   "metadata": {
    "vscode": {
     "languageId": "raw"
    }
   },
   "source": [
    "### **3.3 Importance of Element Placement Order**\n",
    "\n",
    "The order of elements within prompts significantly affects the model's output tendencies, so placing important information in appropriate positions within the prompt is crucial.\n",
    "\n",
    "Below is the general element placement order, but you should compare and analyze performance differences by changing the positions between elements, even for the same elements, or by changing positions between system prompts and user prompts. Through such systematic A/B testing, you can discover prompt structures optimized for specific tasks.\n",
    "\n",
    "System Prompt\n",
    "1. **Context Information**: Place at the very beginning to help understand the overall situation\n",
    "2. **Role Definition**: Place after context to set the response perspective\n",
    "3. **Specific Instructions**: Present detailed execution methods after role definition\n",
    "4. **Constraints and Format**: Place immediately after instructions to manage output quality\n",
    "5. **Examples**: Improve comprehension with concrete examples after format explanation\n",
    "\n",
    "User Prompt\n",
    "1. Specific tasks\n",
    "2. User input data\n",
    "\n",
    "### **3.4 Structured Formats**\n",
    "\n",
    "#### 3.4.1 Markdown\n",
    "Use markdown headings for main sections and subsections (including deeper hierarchies up to H4+). Use numbering or bullet points as needed.\n"
   ]
  },
  {
   "cell_type": "code",
   "execution_count": 5,
   "metadata": {},
   "outputs": [
    {
     "name": "stdout",
     "output_type": "stream",
     "text": [
      "**Team Standup Meeting Agenda [20 min]**  \n",
      "\n",
      "**1. Quick Check-in [2 min]**  \n",
      "- Confirm agenda and time constraints  \n",
      "- Brief team status check (e.g., \"Ready to proceed?\")  \n",
      "\n",
      "**2. Project Updates (Rotating Order) [8 min]**  \n",
      "- **Each member (2 mins):**  \n",
      "  - *Key accomplishments* since last standup  \n",
      "  - *Priorities for the day*  \n",
      "  - *Progress toward sprint/milestone goals*  \n",
      "\n",
      "**3. Blockers & Dependencies [5 min]**  \n",
      "- Identify unresolved blockers (e.g., technical issues, resource gaps)  \n",
      "- Discuss cross-team dependencies or external delays  \n",
      "- Assign immediate follow-up owners for resolution (e.g., \"X will email Y by EOD\")  \n",
      "\n",
      "**4. Next Steps & Accountabilities [5 min]**  \n",
      "- Clarify action items from blockers (e.g., \"Dev team to prioritize API fix today\")  \n",
      "- Assign deadlines and responsible parties for follow-ups  \n",
      "- Confirm individual daily goals and sprint alignment  \n",
      "\n",
      "**Adj\n"
     ]
    }
   ],
   "source": [
    "response = client.chat.completions.create(\n",
    "    model=\"solar-pro2\",\n",
    "    messages=[\n",
    "        {\n",
    "            \"role\": \"system\",\n",
    "            \"content\": \"\"\"# Role\n",
    "You are a meeting organizer specializing in team communications.\n",
    "\n",
    "## Instructions  \n",
    "Create structured meeting agendas with clear time management and actionable outcomes.\n",
    "\n",
    "#### Example Format\n",
    "**Topic Name [X min]**\n",
    "- Discussion point 1\n",
    "- Discussion point 2\n",
    "\n",
    "Generate a clear meeting agenda following this structure.\"\"\"\n",
    "        },\n",
    "        {\n",
    "            \"role\": \"user\",\n",
    "            \"content\": \"\"\"Create a 20-minute standup meeting agenda covering project updates and blockers.\"\"\"\n",
    "        }\n",
    "    ],\n",
    "    max_tokens=2000,\n",
    "    temperature=0.7,\n",
    "    reasoning_effort=\"high\"\n",
    ")\n",
    "\n",
    "print(response.choices[0].message.content)\n"
   ]
  },
  {
   "cell_type": "markdown",
   "metadata": {
    "vscode": {
     "languageId": "raw"
    }
   },
   "source": [
    "#### 3.4.2 XML Tags\n",
    "\n",
    "Use when you need to precisely wrap sections including start and end tags. You can add metadata to tags for additional context, and create nested structures by placing new tags within the same tag.\n",
    "\n",
    "The example below is a prompt for report writing tasks. The structure is clearly expressed through XML tags, and character limits for each structure are expressed through metadata.\n"
   ]
  },
  {
   "cell_type": "code",
   "execution_count": 6,
   "metadata": {},
   "outputs": [
    {
     "name": "stdout",
     "output_type": "stream",
     "text": [
      "**Summary**  \n",
      "AI industry growth driven by generative AI, sector integration, and ethical focus.  \n",
      "\n",
      "**Key Finding**  \n",
      "Generative AI leads innovation, transforming industries with advanced NLP and automation.  \n",
      "\n",
      "**Recommendation**  \n",
      "Invest in AI talent, ethical frameworks, and cross-industry partnerships to stay competitive.\n"
     ]
    }
   ],
   "source": [
    "response = client.chat.completions.create(\n",
    "    model=\"solar-pro2\",\n",
    "    messages=[\n",
    "        {\n",
    "            \"role\": \"system\",\n",
    "            \"content\": \"\"\"<role>You are a business analyst.</role>\n",
    "<instructions>\n",
    " <rule1>Generate a structured report with plain text following the hierarchy and 'max_chars' limits</rule1>\n",
    " <rule2>Count characters in each section and ensure none exceed their limits. If any section exceeds the limit, revise it to fit.</rule2>\n",
    " <rule3>Do not include character counts in your response.</rule3>\n",
    "</instructions>\n",
    " <report_structure>\n",
    " <summary max_chars=\"100\">brief overview</summary>\n",
    " <key_finding max_chars=\"100\">main insight</key_finding>\n",
    " <recommendation max_chars=\"100\">suggested action</recommendation>\n",
    "</report_structure>\"\"\"\n",
    "        },\n",
    "        {\n",
    "            \"role\": \"user\",\n",
    "            \"content\": \"\"\"Write a report about AI industry trends.\"\"\"\n",
    "        }\n",
    "    ],\n",
    "    max_tokens=4000,\n",
    "    temperature=0.3,\n",
    "    reasoning_effort=\"high\"\n",
    ")\n",
    "\n",
    "print(response.choices[0].message.content)\n"
   ]
  },
  {
   "cell_type": "markdown",
   "metadata": {
    "vscode": {
     "languageId": "raw"
    }
   },
   "source": [
    "---\n",
    "\n",
    "## **4. Prompt Methods**\n",
    "\n",
    "### **4.1 Role**\n",
    "\n",
    "Role definition has a decisive impact on the model's response quality and consistency. Since solar-pro2 applies domain-specific knowledge and perspectives very well according to roles, specific and clear role setting is important.\n",
    "\n",
    "#### 4.1.1 Domain-Specialized Experts\n",
    "\n",
    "For tasks requiring deep knowledge and experience in specialized fields, assign actual job categories from that field to the model.\n",
    "The example below activates medical expertise by assigning a specific role as an emergency medicine specialist. By specifying 15 years of experience and detailed specialty areas, the model is guided to apply systematic diagnostic approaches and clinical protocols in emergency situations.\n"
   ]
  },
  {
   "cell_type": "code",
   "execution_count": 7,
   "metadata": {},
   "outputs": [
    {
     "name": "stdout",
     "output_type": "stream",
     "text": [
      "**Initial Assessment:**  \n",
      "A 45-year-old with chest pain, shortness of breath, and diaphoresis requires urgent evaluation for life-threatening causes.  \n",
      "\n",
      "### **Top 3 Differential Diagnoses:**  \n",
      "1. **Acute Coronary Syndrome (ACS)/Myocardial Infarction (MI):**  \n",
      "   - Classic presentation with chest pain, dyspnea, and diaphoresis. Risk factors (e.g., hypertension, smoking, diabetes) increase likelihood.  \n",
      "   - **Key findings:** ECG changes (ST elevation/depression), elevated cardiac biomarkers (troponin).  \n",
      "\n",
      "2. **Pulmonary Embolism (PE):**  \n",
      "   - Sudden dyspnea, pleuritic or substernal chest pain, tachycardia. Consider in patients with immobility, hypercoagulable states, or unexplained hypoxia.  \n",
      "   - **Key findings:** Hypoxia, tachycardia, elevated D-dimer (if pre-test probability is intermediate/low), CT pulmonary angiogram confirmation.  \n",
      "\n",
      "3. **Aortic Dissection:**  \n",
      "   - Severe, tearing chest/back pain, possible pulse deficits or blood pressure asymmetry. Hypertension is a major risk factor.  \n",
      "   - **Key findings:** Widened mediastinum on chest X-ray, CT angiogram confirmation.  \n",
      "\n",
      "---\n",
      "\n",
      "### **Immediate Actions Needed:**  \n",
      "1. **ABCs (Airway, Breathing, Circulation):**  \n",
      "   - Administer oxygen if SpO₂ <94%.  \n",
      "   - Establish IV access; monitor vital signs (BP in both arms for dissection).  \n",
      "\n",
      "2. **ECG and Cardiac Biomarkers:**  \n",
      "   - Perform **12-lead ECG** immediately to assess for STEMI/NSTEMI.  \n",
      "   - Draw **troponin** (stat and serial testing).  \n",
      "\n",
      "3. **Risk Stratification:**  \n",
      "   - Use **HEART Score** (History, ECG, Age, Risk factors, Troponin) for ACS.  \n",
      "   - Apply **Wells’ Criteria** or **PERC Rule** for PE.  \n",
      "\n",
      "4. **Pharmacotherapy (if ACS suspected):**  \n",
      "   - **Aspirin 325 mg** PO (if no contraindications).  \n",
      "   - **Nitroglycerin** sublingual for persistent pain (if BP >90/60 mmHg).  \n",
      "   - Avoid beta-blockers/CCBs until dissection ruled out.  \n",
      "\n",
      "5. **Imaging:**  \n",
      "   - **Chest X-ray** to exclude pneumothorax/aortic widening.  \n",
      "   - **CT Pulmonary Angiogram** or **CT Aorta** if PE/dissection remains high on differential.  \n",
      "\n",
      "6. **Consultations:**  \n",
      "   - **Cardiology** for possible cath lab activation (if STEMI).  \n",
      "   - **Vascular Surgery** if aortic dissection is suspected.  \n",
      "\n",
      "**Note:** Do not delay definitive testing or treatment for any of these conditions. Time-sensitive interventions (e.g., reperfusion therapy for STEMI) are critical.\n"
     ]
    }
   ],
   "source": [
    "response = client.chat.completions.create(\n",
    "    model=\"solar-pro2\",\n",
    "    messages=[\n",
    "        {\n",
    "            \"role\": \"system\",\n",
    "            \"content\": \"\"\"# Role\n",
    "You are a board-certified emergency medicine physician with 15 years of clinical experience. You specialize in rapid assessment, differential diagnosis, and emergency treatment protocols.\n",
    "\n",
    "# Instructions\n",
    "Provide brief medical assessment:\n",
    "- Top 3 differential diagnoses\n",
    "- Immediate action needed.\"\"\"\n",
    "        },\n",
    "        {\n",
    "            \"role\": \"user\",\n",
    "            \"content\": \"\"\"A 45-year-old patient presents with chest pain, shortness of breath, and sweating. What's your initial assessment?\"\"\"\n",
    "        }\n",
    "    ],\n",
    "    max_tokens=4000,\n",
    "    temperature=0.3,\n",
    "    reasoning_effort=\"high\"\n",
    ")\n",
    "\n",
    "print(response.choices[0].message.content)\n"
   ]
  },
  {
   "cell_type": "markdown",
   "metadata": {
    "vscode": {
     "languageId": "raw"
    }
   },
   "source": [
    "#### 4.1.2 Task Performance Specialists\n",
    "\n",
    "Even for tasks where specific professions don't exist, you can create and assign virtual expert personas with specialized expertise for those tasks to provide context to the model.\n"
   ]
  },
  {
   "cell_type": "code",
   "execution_count": 8,
   "metadata": {},
   "outputs": [
    {
     "name": "stdout",
     "output_type": "stream",
     "text": [
      "1. machine learning algorithms  \n",
      "2. natural language processing  \n",
      "3. Python\n"
     ]
    }
   ],
   "source": [
    "response = client.chat.completions.create(\n",
    "    model=\"solar-pro2\",\n",
    "    messages=[\n",
    "        {\n",
    "            \"role\": \"system\",\n",
    "            \"content\": \"\"\"# Role\n",
    "You are a search optimization specialist with expertise in keyword extraction and information retrieval.\n",
    "\n",
    "# Instructions\n",
    "Extract 3 main keywords from the query and return them as a simple list without any explanation:\n",
    "1. [primary keyword]\n",
    "2. [secondary keyword] \n",
    "3. [related term]\n",
    "\n",
    "Focus on the most important search terms for optimal information retrieval.\"\"\"\n",
    "        },\n",
    "        {\n",
    "            \"role\": \"user\",\n",
    "            \"content\": \"\"\"I need help with machine learning algorithms for natural language processing in Python.\"\"\"\n",
    "        }\n",
    "    ],\n",
    "    max_tokens=400,\n",
    "    temperature=0.5,\n",
    "    reasoning_effort=\"low\"\n",
    ")\n",
    "\n",
    "print(response.choices[0].message.content)\n"
   ]
  },
  {
   "cell_type": "markdown",
   "metadata": {
    "vscode": {
     "languageId": "raw"
    }
   },
   "source": [
    "### **4.2 Instructions**\n",
    "\n",
    "Instructions are a key element that determines the success of tasks. Since solar-pro2 responds very well to clear and specific instructions, ambiguity must be removed and step-by-step detailed instructions must be provided.\n",
    "\n",
    "#### 4.2.1 Requirements Breakdown\n",
    "\n",
    "It's important to write requirements as specifically as possible for the model to understand. If task scenarios are diverse, you need to write separate guidelines to follow based on the type of User Input or Context. Instead of vague instructions, present measurable and actionable criteria to ensure consistent results and include detailed guidelines that can respond to various situations.\n",
    "\n",
    "The prompt below is an example of breaking down title generation tasks by content type. For each type, specific pattern formulas, focus areas, tone, and character limits are specified to transform the qualitative requirement of \"good title\" into concrete criteria.\n"
   ]
  },
  {
   "cell_type": "code",
   "execution_count": 9,
   "metadata": {},
   "outputs": [],
   "source": [
    "system_prompt = \"\"\"# Role\n",
    "You are a title optimization specialist for different content platforms.\n",
    "\n",
    "# Instructions\n",
    "Create titles based on content type:\n",
    "\n",
    "## Educational Titles\n",
    "- Pattern: \"How to [skill]\" or \"[Number] Steps to [outcome]\"\n",
    "- Focus: Clear learning outcomes, instructional tone\n",
    "\n",
    "## Blog Titles  \n",
    "- Pattern: \"[Number] [power word] [topic] [benefit]\"\n",
    "- Focus: Curiosity, engagement, personal benefit\n",
    "\n",
    "## News Titles\n",
    "- Pattern: \"[Who] [action] [what] [impact]\"\n",
    "- Focus: Facts, immediacy, authority\n",
    "\n",
    "# Constraints\n",
    "- Title must be under 100 characters\n",
    "- Return only the title matching the requested type.\"\"\""
   ]
  },
  {
   "cell_type": "markdown",
   "metadata": {},
   "source": [
    "Check the results of putting three types of content into the user prompt according to the above prompt."
   ]
  },
  {
   "cell_type": "code",
   "execution_count": 11,
   "metadata": {},
   "outputs": [
    {
     "name": "stdout",
     "output_type": "stream",
     "text": [
      "Educational Title: \"How to Master Python Fundamentals: Beginner's Step-by-Step Guide\"\n",
      "Blog Title: 5 Proven Time-Blocking Hacks to Stay Productive Working From Home This Holiday Season\n",
      "News Title: Meta Platforms Cuts 10,000 Jobs Amid Economic Uncertainty, Streamlining Push\n"
     ]
    }
   ],
   "source": [
    "# Education 유형의 글을 user prompt에 넣었을 때\n",
    "response_edu = client.chat.completions.create(\n",
    "    model=\"solar-pro2\",\n",
    "    messages=[\n",
    "        {\"role\": \"system\", \"content\": system_prompt},\n",
    "        {\"role\": \"user\", \"content\": \"This comprehensive Python tutorial covers essential programming fundamentals for beginners. You'll learn how to declare and use variables to store data, create loops to repeat code efficiently, and write functions to organize your programs. Each concept includes hands-on examples and practice exercises to reinforce your understanding. By the end of this guide, you'll have the foundational skills needed to build your first Python applications.\"}\n",
    "    ],\n",
    "    max_tokens=200,\n",
    "    temperature=0.4,\n",
    "    reasoning_effort=\"low\"\n",
    ")\n",
    "print(\"Educational Title:\", response_edu.choices[0].message.content)\n",
    "\n",
    "# Blog 유형의 글을 user prompt에 넣었을 때\n",
    "response_blog = client.chat.completions.create(\n",
    "    model=\"solar-pro2\", \n",
    "    messages=[\n",
    "        {\"role\": \"system\", \"content\": system_prompt},\n",
    "        {\"role\": \"user\", \"content\": \"Working from home during the holiday season presents unique productivity challenges. Family gatherings, increased distractions, and holiday stress can derail your focus. However, with strategic time-blocking techniques, you can maintain peak performance. Set clear boundaries with family members about work hours, create a dedicated workspace away from holiday activities, and use the Pomodoro technique to stay focused during short bursts. These proven strategies help remote workers maintain productivity even during the busiest holiday periods.\"}\n",
    "    ],\n",
    "    max_tokens=200,\n",
    "    temperature=0.4,\n",
    "    reasoning_effort=\"low\"\n",
    ")\n",
    "print(\"Blog Title:\", response_blog.choices[0].message.content)\n",
    "\n",
    "# News 유형의 글을 user prompt에 넣었을 때\n",
    "response_news = client.chat.completions.create(\n",
    "    model=\"solar-pro2\",\n",
    "    messages=[\n",
    "        {\"role\": \"system\", \"content\": system_prompt},\n",
    "        {\"role\": \"user\", \"content\": \"Create a news title for: Meta Platforms announced today that it will lay off approximately 10,000 employees across multiple divisions, with engineering and product development teams bearing the brunt of the cuts. CEO Mark Zuckerberg cited economic uncertainty and the need to streamline operations as primary reasons for the workforce reduction. The layoffs represent about 13% of Meta's total workforce and are expected to be completed by the end of the quarter. This marks the company's second major round of layoffs in six months, following similar cuts in November 2022.\"}\n",
    "    ],\n",
    "    max_tokens=200,\n",
    "    temperature=0.4,\n",
    "    reasoning_effort=\"low\"\n",
    ")\n",
    "print(\"News Title:\", response_news.choices[0].message.content)"
   ]
  },
  {
   "cell_type": "markdown",
   "metadata": {
    "vscode": {
     "languageId": "raw"
    }
   },
   "source": [
    "#### 4.2.2 Presenting Specific Execution Methods\n",
    "\n",
    "Guide accurate execution methods by breaking down complex and difficult tasks step by step.\n",
    "\n",
    "The prompt below is an example of a translation task that converts English number units to Korean. It guides a systematic conversion process through identifying English number units (thousand, million, billion, trillion), presenting basic conversion formulas and compound number breakdown methods, and verifying mathematical accuracy."
   ]
  },
  {
   "cell_type": "code",
   "execution_count": 17,
   "metadata": {},
   "outputs": [
    {
     "name": "stdout",
     "output_type": "stream",
     "text": [
      "테크코퍼레이션은 올해 8조 3천억 원의 매출을 달성했으며, 이는 전년 대비 1조 2천억 원 증가한 수치입니다. AI 부문은 2조 7천억 원의 매출을 기록했고, 클라우드 부문은 3,500억 원의 수익을 올렸습니다. 순이익은 1조 8천억 원을 기록했으며, 연구개발에 4,200억 원이 투자되었습니다. 회사는 평균 연봉 8천 5백만 원인 신규 직원 2만 5천 명을 채용했습니다.\n"
     ]
    }
   ],
   "source": [
    "response = client.chat.completions.create(\n",
    "   model=\"solar-pro2\",\n",
    "   messages=[\n",
    "       {\n",
    "           \"role\": \"system\",\n",
    "           \"content\": \"\"\"# Role\n",
    "You are an English-Korean business translator specializing in financial documents.\n",
    "\n",
    "# Instructions\n",
    "Translate English text to Korean with precise number unit conversion:\n",
    "\n",
    "### English Number Units\n",
    "- thousand → 천\n",
    "- million → 백만 (or 100만)\n",
    "- billion → 십억 (or 10억) \n",
    "- trillion → 조\n",
    "\n",
    "### Trillion-level Numbers\n",
    "Break down compound numbers: 15.2 trillion = 15조 2천억\n",
    "\n",
    "### Million-level Numbers\n",
    "- 32 million = 3천 2백만\n",
    "- Pattern: X.Y million = X천 Y백만\n",
    "- Example: 12.5 million = 1천 2백 5십만\n",
    "\n",
    "### Format Requirements\n",
    "- Use standard Korean business notation\n",
    "- Convert currency appropriately (dollars to won if needed)\n",
    "- Maintain formal business Korean tone\n",
    "\n",
    "CRITICAL: Convert ALL English numbers accurately to Korean units. Return only the translated sentence.\"\"\"\n",
    "       },\n",
    "       {\n",
    "           \"role\": \"user\",\n",
    "           \"content\": \"\"\"TechCorporation achieved revenue of 8.3 trillion won this year, which represents an increase of 1.2 trillion won compared to the previous year. The AI division generated 2.7 trillion won, while the cloud division earned 350 billion won in revenue. Net profit recorded 1.8 trillion won, and 420 billion won was invested in research and development. The company hired 25,000 new employees with an average annual salary of 85 million won.\"\"\"\n",
    "       }\n",
    "   ],\n",
    "   max_tokens=4000,\n",
    "   temperature=0.1,\n",
    "   reasoning_effort=\"high\"\n",
    ")\n",
    "\n",
    "print(response.choices[0].message.content)"
   ]
  },
  {
   "cell_type": "markdown",
   "metadata": {
    "vscode": {
     "languageId": "raw"
    }
   },
   "source": [
    "### **4.3 Constraints**\n",
    "\n",
    "Constraints are an important element that ensures output quality and consistency. In solar-pro2, clear constraints can guide the accurate fulfillment of complex requirements.\n",
    "\n",
    "#### 4.3.1 Separating Positive and Negative Instructions\n",
    "\n",
    "Clearly distinguish and present what should be done and what should not be done.\n",
    "\n",
    "Below is a prompt example for newsletter generation tasks. When there are constraints that require output only in plain text rather than markdown output due to service environment requirements, positive and negative instructions can be separated as follows.\n"
   ]
  },
  {
   "cell_type": "code",
   "execution_count": 87,
   "metadata": {},
   "outputs": [
    {
     "name": "stdout",
     "output_type": "stream",
     "text": [
      "Hi there,  \n",
      "\n",
      "Here are five key trends shaping the AI industry this quarter:  \n",
      "\n",
      "1. Generative AI expands into enterprise tools  \n",
      "Companies are integrating generative AI into project management software, CRM platforms, and design applications to automate content creation and data analysis. Expect more niche tools targeting specific industries like legal or healthcare.  \n",
      "\n",
      "2. Smaller, faster models challenge big AI  \n",
      "Efficiency-focused models like Microsoft’s Phi-3 and Mistral’s 7B are gaining traction for their ability to run locally on consumer hardware while matching performance of larger systems in specialized tasks.  \n",
      "\n",
      "3. AI regulation gains momentum  \n",
      "The EU’s AI Act has entered final negotiations, with the US and UK also drafting sector-specific guidelines. Businesses should prepare for increased scrutiny around transparency and bias mitigation.  \n",
      "\n",
      "4. Multimodal AI breaks into mainstream apps  \n",
      "Tools combining text, image, and audio understanding—like OpenAI’s GPT-4o—are being embedded in customer service chatbots, virtual assistants, and educational platforms.  \n",
      "\n",
      "5. AI talent competition heats up  \n",
      "Startups and established firms alike are offering signing bonuses and equity to attract ML engineers. Upskilling programs in prompt engineering and AI ethics are also surging in popularity.  \n",
      "\n",
      "Stay tuned for deeper dives into these topics next week. Let us know what you’d like us to cover!  \n",
      "\n",
      "Best  \n",
      "[Your Name]\n"
     ]
    }
   ],
   "source": [
    "response = client.chat.completions.create(\n",
    "   model=\"solar-pro2\",\n",
    "   messages=[\n",
    "       {\n",
    "           \"role\": \"system\",\n",
    "           \"content\": \"\"\"# Role\n",
    "You are a newsletter writer creating content for email distribution.\n",
    "\n",
    "# DO:\n",
    "- Use clear headlines and numbered lists\n",
    "- Only use plain text\n",
    "- Keep sentences short and conversational\n",
    "\n",
    "# DON'T:\n",
    "- NEVER use **bold**, *italics*, or # headers\n",
    "- NEVER use bullet points with -, *, or + symbols\n",
    "- NEVER use emojis\n",
    "- NEVER add markdown formatting\"\"\"\n",
    "       },\n",
    "       {\n",
    "           \"role\": \"user\",\n",
    "           \"content\": \"\"\"Create a tech newsletter about AI industry trends.\"\"\"\n",
    "       }\n",
    "   ],\n",
    "   max_tokens=500,\n",
    "   temperature=0.4,\n",
    "   reasoning_effort=\"low\"\n",
    ")\n",
    "\n",
    "print(response.choices[0].message.content)"
   ]
  },
  {
   "cell_type": "markdown",
   "metadata": {
    "vscode": {
     "languageId": "raw"
    }
   },
   "source": [
    "#### 4.3.2 Prioritized Constraints\n",
    "\n",
    "Clearly establish priorities for requirements that may conflict when there are many instructions and constraints.\n",
    "\n",
    "In complex tasks, situations arise where multiple goals are difficult to achieve simultaneously, so consistent decision-making criteria must be provided through a clear priority system. This helps the model make appropriate choices in dilemma situations and ensures quality and consistency of results.\n",
    "\n",
    "**Importance Order Expression:**\n",
    "- CRITICAL / HIGHEST / MOST IMPORTANT → HIGH → MEDIUM → LOW / LOWEST\n",
    "- Priority 1 (Absolute) → Priority 2 (Important) → Priority 3 (Optional)\n",
    "- Non-negotiable → Essential → Preferred → Optional\n"
   ]
  },
  {
   "cell_type": "code",
   "execution_count": 101,
   "metadata": {},
   "outputs": [
    {
     "name": "stdout",
     "output_type": "stream",
     "text": [
      "| Metric | Value |\n",
      "|--------|-------|\n",
      "| Total Revenue | $89.4 billion |\n",
      "| Total Revenue Growth | 15.2% |\n",
      "| Operating Income | $24.7 billion |\n",
      "| Operating Income Growth | 18.5% |\n",
      "| Net Income | $19.3 billion |\n",
      "| Net Income Growth | 22.1% |\n",
      "| Profit Margin | 21.6% |\n",
      "| Return on Equity | 28.9% |\n",
      "| Cash Flow from Operations | $32.1 billion |\n"
     ]
    }
   ],
   "source": [
    "# 우선순위가 있는 제약사항 예제 - 수치 요약 with 마크다운 표\n",
    "response = client.chat.completions.create(\n",
    "   model=\"solar-pro2\",\n",
    "   messages=[\n",
    "       {\n",
    "           \"role\": \"system\",\n",
    "           \"content\": \"\"\"You are a data formatter converting text to structured tables.\n",
    "\n",
    "## Formatting Guidelines\n",
    "\n",
    "### PRIORITY 1: Only response in markdown table format (CRITICAL)\n",
    "- NEVER add title of the table\n",
    "- Do not add any explanation text\n",
    "\n",
    "### PRIORITY 2: Table Format Compliance\n",
    "- All numerical data MUST be in markdown table format\n",
    "- Use exact syntax: | Header | Value | with proper alignment\n",
    "- Include every single number from source text\n",
    "\n",
    "### PRIORITY 3: Complete Coverage\n",
    "- No information from source should be omitted\n",
    "- Add category groupings if needed\n",
    "\n",
    "Convert the provided text into structured table format.\"\"\"\n",
    "       },\n",
    "       {\n",
    "           \"role\": \"user\",\n",
    "           \"content\": \"\"\"GlobalTech reported exceptional Q4 performance with total revenue reaching $89.4 billion, representing 15.2% year-over-year growth. Operating income was $24.7 billion, up 18.5% from last year. Net income climbed to $19.3 billion, a 22.1% increase. The company's profit margin improved to 21.6%, while return on equity reached 28.9%. Cash flow from operations totaled $32.1 billion.\"\"\"\n",
    "       }\n",
    "   ],\n",
    "   max_tokens=4000,\n",
    "   temperature=0.1,\n",
    "   reasoning_effort=\"high\"\n",
    ")\n",
    "\n",
    "print(response.choices[0].message.content)"
   ]
  },
  {
   "cell_type": "markdown",
   "metadata": {
    "vscode": {
     "languageId": "raw"
    }
   },
   "source": [
    "### **4.4 Output Format**\n",
    "\n",
    "Definition of output format determines the usability and consistency of results. Expected output formats can be guided using structural templates and examples. Clear format specification facilitates subsequent processing or system integration and ensures consistent quality results.\n",
    "\n",
    "#### 4.4.1 Presenting Structural Templates\n",
    "\n",
    "Guide the parts that the model should respond to and fill in the expected output format using brackets. This method clearly conveys to the model the exact structure and the nature of content that should be included in each section, ensuring consistency and completeness of results. The descriptions within brackets specifically present the type and purpose of content to go in that position, helping the model generate appropriate information."
   ]
  },
  {
   "cell_type": "code",
   "execution_count": 102,
   "metadata": {},
   "outputs": [
    {
     "name": "stdout",
     "output_type": "stream",
     "text": [
      "## 🛠️ Issue: Website loading speed has decreased by 40%, significantly slowing user access.  \n",
      "## 💡 Impact: The slowdown has caused a 15% drop in user engagement, risking revenue and retention.  \n",
      "## ✅ Solution: Optimize images, enable caching, and upgrade hosting to improve load times and recover engagement.\n"
     ]
    }
   ],
   "source": [
    "response = client.chat.completions.create(\n",
    "    model=\"solar-pro2\",\n",
    "    messages=[\n",
    "        {\n",
    "            \"role\": \"system\",\n",
    "            \"content\": \"\"\"Create a brief business summary using this template:\n",
    "## 🛠️ Issue: [main problem]\n",
    "## 💡 Impact: [consequence]  \n",
    "## ✅ Solution: [recommended action]\n",
    "\n",
    "Keep each section to 1-2 sentences.\"\"\"\n",
    "        },\n",
    "        {\n",
    "            \"role\": \"user\",\n",
    "            \"content\": \"\"\"Situation: Website loading speed decreased by 40%, causing 15% drop in user engagement.\"\"\"\n",
    "        }\n",
    "    ],\n",
    "    max_tokens=800,\n",
    "    temperature=0.5,\n",
    "    reasoning_effort=\"low\"\n",
    ")\n",
    "\n",
    "print(response.choices[0].message.content)\n"
   ]
  },
  {
   "cell_type": "markdown",
   "metadata": {
    "vscode": {
     "languageId": "raw"
    }
   },
   "source": [
    "#### 4.4.2 JSON Output Format\n",
    "\n",
    "Guide the required format and the parts that the model should fill in. It's important to instruct not to include any other text besides the output.\n",
    "In particular, specify constraints like \"Respond ONLY with the JSON object\" to prevent additional explanations or comments from being included, and ensure output in pure data format that systems can process directly.\n"
   ]
  },
  {
   "cell_type": "code",
   "execution_count": 103,
   "metadata": {},
   "outputs": [
    {
     "name": "stdout",
     "output_type": "stream",
     "text": [
      "{\n",
      "  \"company\": \"TechCorp\",\n",
      "  \"revenue\": \"$2.5 billion\",\n",
      "  \"growth\": \"18%\"\n",
      "}\n"
     ]
    }
   ],
   "source": [
    "response = client.chat.completions.create(\n",
    "    model=\"solar-pro2\",\n",
    "    messages=[\n",
    "        {\n",
    "            \"role\": \"system\",\n",
    "            \"content\": \"\"\"Extract key information and return as JSON only:\n",
    "{\n",
    "  \"company\": \"company name\",\n",
    "  \"revenue\": \"revenue amount\",\n",
    "  \"growth\": \"growth percentage\"\n",
    "}\n",
    "\n",
    "Return ONLY the JSON object.\"\"\"\n",
    "        },\n",
    "        {\n",
    "            \"role\": \"user\",\n",
    "            \"content\": \"\"\"News: TechCorp reported $2.5 billion revenue, up 18% from last year.\"\"\"\n",
    "        }\n",
    "    ],\n",
    "    max_tokens=200,\n",
    "    temperature=0.3,\n",
    "    reasoning_effort=\"low\"\n",
    ")\n",
    "\n",
    "print(response.choices[0].message.content)\n"
   ]
  },
  {
   "cell_type": "markdown",
   "metadata": {
    "vscode": {
     "languageId": "raw"
    }
   },
   "source": [
    "#### 4.4.3 Few-Shot Learning\n",
    "\n",
    "Few-Shot Learning is a technique that teaches models desired output patterns by presenting a few specific examples. It's very effective as it can intuitively convey task requirements and expected results through actual input-output examples instead of long explanations. It teaches expected output patterns through concrete and practical examples, maximizing learning effects by presenting progressively from simple examples to complex situations.\n",
    "\n",
    "**Core Principles of Few-Shot Learning:**\n",
    "\n",
    "- **Progressive Complexity**: Starting with basic simple cases and gradually increasing difficulty to exceptional situations or complex problems to optimize the model's learning curve.\n",
    "\n",
    "- **Type-based Classification**: Group examples by error or situation types to clearly teach the characteristics and processing methods of each category.\n",
    "\n",
    "- **Practical Examples**: Use concrete and realistic situations that can occur in actual service environments as examples to increase the model's practicality.\n",
    "\n",
    "- **Include Processing Guidelines**: Rather than simply presenting input-output examples, provide specific guidelines on how to approach and process each type.\n",
    "\n",
    "Below is a simple proofreading prompt example. It divides guides for each error type that needs to be proofread and includes appropriate examples for each guide to help the model systematically recognize and correct various error types.\n"
   ]
  },
  {
   "cell_type": "code",
   "execution_count": 20,
   "metadata": {},
   "outputs": [
    {
     "name": "stdout",
     "output_type": "stream",
     "text": [
      "The presentation was given to all department heads, Tom, Lisa, and Mark yesterday, and we need to review it.\n"
     ]
    }
   ],
   "source": [
    "response = client.chat.completions.create(\n",
    "  model=\"solar-pro2\",\n",
    "  messages=[\n",
    "      {\n",
    "          \"role\": \"system\",\n",
    "          \"content\": \"\"\"# Role\n",
    "You are a professional English proofreader specializing in business and formal documents.\n",
    "\n",
    "# Instructions\n",
    "Correct English text based on error type.\n",
    "Return only the corrected sentence without explanations.\n",
    "\n",
    "# Grammar Errors\n",
    "- Fix grammatical mistakes with proper structure\n",
    "Input: \"The report was wrote by our team yesterday.\"\n",
    "Output: \"The report was written by our team yesterday.\"\n",
    "\n",
    "# Punctuation Errors\n",
    "- Apply standard punctuation rules\n",
    "Input: \"Please send the proposal to John Sarah and Michael\"\n",
    "Output: \"Please send the proposal to John, Sarah, and Michael.\"\n",
    "\n",
    "# Sentence Structure Improvement\n",
    "- Rewrite for clarity and natural flow\n",
    "Input: \"What we discussed in the meeting yesterday is something that needs immediate action.\"\n",
    "Output: \"The issues we discussed in yesterday's meeting require immediate action.\"\n",
    "\n",
    "# Awkward Expression Correction\n",
    "- Improve unnatural or unclear expressions\n",
    "Input: \"We need to do a discussion about the budget.\"\n",
    "Output: \"We need to discuss the budget.\"\n",
    "\"\"\"\n",
    "      },\n",
    "      {\n",
    "          \"role\": \"user\",\n",
    "          \"content\": \"\"\"Input: The presentation was gave to all department heads Tom Lisa and Mark yesterday and we need to do a review about it.\n",
    "          Output: \"\"\"\n",
    "      }\n",
    "  ],\n",
    "  max_tokens=4000,\n",
    "  temperature=0.2,\n",
    "  reasoning_effort=\"high\"\n",
    ")\n",
    "\n",
    "print(response.choices[0].message.content)"
   ]
  },
  {
   "cell_type": "markdown",
   "metadata": {
    "vscode": {
     "languageId": "raw"
    }
   },
   "source": [
    "---\n",
    "\n",
    "## **5. Emphasizing Critical Instructions**\n",
    "\n",
    "Use special emphasis methods and emphasis words to focus the model's attention so that important rules or constraints are not ignored. Unlike general instructions, requirements that must be absolutely followed use visual emphasis and repetition.\n",
    "\n",
    "**`Visual Emphasis Methods`:**\n",
    "- **Use of Capital Letters**: Indicate importance with CRITICAL, MANDATORY, WARNING, IMPORTANT\n",
    "- **Dividers and Boxes**: Use #, ---, === to separate important sections\n",
    "- **Repetitive Emphasis**: Relocate key instructions to the beginning and end of prompts\n",
    "- **Numbers and Checklists**: List essential requirements in order to prevent omissions\n",
    "\n",
    "**`Emphasis Word Usage`:**\n",
    "- **Absolute Compliance**: CRITICAL, MANDATORY, REQUIRED, MUST, NEVER, ALWAYS\n",
    "- **Warning Indication**: WARNING, ALERT, CAUTION, FAILURE TO COMPLY\n",
    "- **Priority**: PRIORITY, ESSENTIAL, VITAL, CRUCIAL, NON-NEGOTIABLE\n",
    "- **Verification Induction**: VERIFY, CHECK, CONFIRM, VALIDATE, ENSURE\n",
    "\n",
    "### **5.1 Self-Verification**\n",
    "\n",
    "Self-verification is a technique that guides the model to check the accuracy and completeness of results by itself after completing tasks. Similar to how humans review after completing important work, this instructs the model to perform systematic verification procedures to detect and correct errors in advance. Provide specific checklists that allow the model to check essential task requirements one by one, and specify in the prompt to check compliance with each item.\n"
   ]
  },
  {
   "cell_type": "code",
   "execution_count": null,
   "metadata": {},
   "outputs": [
    {
     "name": "stdout",
     "output_type": "stream",
     "text": [
      "$2,850.75  \n",
      "₩3,762,990  \n",
      "¥427,613  \n",
      "¥20,525.40\n"
     ]
    }
   ],
   "source": [
    "response = client.chat.completions.create(\n",
    "   model=\"solar-pro2\",\n",
    "   messages=[\n",
    "       {\n",
    "           \"role\": \"system\",\n",
    "           \"content\": \"\"\"Convert USD amounts to multiple currencies using specified exchange rates.\n",
    "\n",
    "# Exchange Rates (Use these exact rates)\n",
    "- 1 USD = 1,320 KRW (Korean Won)\n",
    "- 1 USD = 150 JPY (Japanese Yen) \n",
    "- 1 USD = 7.2 CNY (Chinese Yuan)\n",
    "\n",
    "# Format Requirements\n",
    "- USD: $ symbol with commas and 2 decimals\n",
    "- KRW: ₩ symbol with commas, no decimals\n",
    "- JPY: ¥ symbol with commas, no decimals\n",
    "- CNY: ¥ symbol with commas and 2 decimals\n",
    "\n",
    "# VERIFICATION CHECKLIST\n",
    "Before submitting your response, verify:\n",
    "1. USD amount × 1,320 = KRW calculation is correct\n",
    "2. USD amount × 150 = JPY calculation is correct\n",
    "3. USD amount × 7.2 = CNY calculation is correct\n",
    "4. All currency symbols are properly used (₩, ¥, ¥, $)\n",
    "5. KRW and JPY show no decimal places\n",
    "6. USD and CNY show exactly 2 decimal places\n",
    "7. All amounts include proper comma separators\n",
    "\n",
    "CRITICAL WARNING: Failure to follow these formatting rules will result in unusable output for financial systems.\n",
    "\n",
    "Convert the USD amount and return only the converted amounts without any explanations.\"\"\"\n",
    "       },\n",
    "       {\n",
    "           \"role\": \"user\",\n",
    "           \"content\": \"\"\"$2,850.75 USD\"\"\"\n",
    "       }\n",
    "   ],\n",
    "   max_tokens=4000,\n",
    "   temperature=0.1,\n",
    "   reasoning_effort=\"high\"\n",
    ")\n",
    "\n",
    "print(response.choices[0].message.content)"
   ]
  },
  {
   "cell_type": "markdown",
   "metadata": {
    "vscode": {
     "languageId": "raw"
    }
   },
   "source": [
    "### **5.2 Context Management**\n",
    "\n",
    "#### 5.2.1 Key Information Placement in Long Contexts\n",
    "\n",
    "Ensure important instructions are not ignored through key information placement in long contexts. Important instructions can be continuously reminded during the information processing by placing them at the beginning and end of prompts.\n",
    "The prompt below is an example of a RAG system that accurately extracts only numerical data from a long financial document of over 9000 characters stored in the `{DOCUMENT}` variable.\n",
    "\n",
    "First, set up the document to be used as context.\n"
   ]
  },
  {
   "cell_type": "code",
   "execution_count": 8,
   "metadata": {},
   "outputs": [],
   "source": [
    "# 샘플 문서\n",
    "DOCUMENT = \"\"\"\n",
    "## TechCorp 2024 Annual Financial Report\n",
    "\n",
    "### Executive Summary\n",
    "TechCorp achieved record-breaking financial performance in 2024, with total revenue reaching $34.7 billion, representing a 28% year-over-year increase from $27.1 billion in 2023. The company's strategic focus on artificial intelligence, quantum computing, and cloud services drove exceptional growth across all business segments. Net income surged to $5.8 billion, up 42% from the previous year, while operating cash flow reached $8.2 billion.\n",
    "\n",
    "### Historical Performance Analysis\n",
    "Over the past five years, TechCorp has consistently outperformed industry benchmarks. Revenue growth averaged 24% annually since 2019, when the company reported $14.2 billion in revenue. The transformation from a traditional hardware manufacturer to a comprehensive technology solutions provider has been remarkable. In 2020, during the pandemic, TechCorp pivoted quickly to remote collaboration tools, which contributed to a 31% revenue spike that year.\n",
    "\n",
    "### Revenue Breakdown by Division\n",
    "\n",
    "**Software Division**: Generated $12.8 billion in revenue (37% of total), up 35% from 2023's $9.5 billion. The division launched 14 new AI-powered products, including the revolutionary TechBot enterprise assistant and advanced cybersecurity suite. International expansion contributed 40% of software revenue, with particularly strong performance in Asia-Pacific markets growing 58% year-over-year.\n",
    "\n",
    "**Hardware Division**: Contributed $10.2 billion (29% of total), showing 22% growth from $8.4 billion in 2023. Quantum computing processors became a major revenue driver, generating $2.1 billion alone. Edge computing devices and IoT sensors contributed $3.8 billion, while traditional server hardware accounted for $4.3 billion. Supply chain optimization reduced manufacturing costs by 12%.\n",
    "\n",
    "**Cloud Services**: Delivered $7.8 billion (22% of total), with remarkable 41% year-over-year growth from $5.5 billion in 2023. Enterprise customers increased by 2,840 new accounts, bringing total enterprise clients to 47,300. Data storage services grew 48%, while AI-as-a-Service offerings expanded 65%. Multi-cloud management tools contributed $1.9 billion in revenue.\n",
    "\n",
    "**Consulting Services**: Accounted for $3.9 billion (12% of total), growing 18% from $3.3 billion in 2023. Digital transformation projects represented 72% of consulting revenue at $2.8 billion. Cybersecurity consulting expanded rapidly, contributing $890 million. The division completed 1,247 major projects across 67 countries.\n",
    "\n",
    "### Quarterly Performance Breakdown\n",
    "\n",
    "**Q1 2024**: Revenue of $8.1 billion, growth of 24% YoY. Software led with $3.0 billion, while cloud services reached $1.8 billion. Operating margin was 21.2%.\n",
    "\n",
    "**Q2 2024**: Revenue climbed to $8.6 billion, 26% growth. Hardware division peaked at $2.7 billion due to quantum processor launches. Net income hit $1.4 billion.\n",
    "\n",
    "**Q3 2024**: Strong performance with $8.7 billion revenue, 29% growth. Cloud services surged to $2.0 billion. International sales comprised 54% of total revenue.\n",
    "\n",
    "**Q4 2024**: Record quarterly revenue of $9.3 billion, 32% growth. All divisions exceeded projections. Operating cash flow reached $2.3 billion for the quarter.\n",
    "\n",
    "### Profitability and Efficiency Metrics\n",
    "Gross margin improved significantly to 71.4%, up from 67.8% in 2023, driven by higher-margin software and cloud services. Operating margin reached 24.1%, compared to 21.3% in the previous year. Return on equity (ROE) improved to 18.7%, while return on assets (ROA) reached 12.4%. Working capital efficiency improved by 15%, with inventory turnover increasing to 8.2 times annually.\n",
    "\n",
    "EBITDA margin expanded to 28.9%, reflecting strong operational leverage. The company maintained healthy liquidity with $4.1 billion in cash and cash equivalents, plus $2.8 billion in short-term investments. Debt-to-equity ratio remained conservative at 0.34, providing financial flexibility for future investments.\n",
    "\n",
    "### Operational Highlights and Workforce\n",
    "Employee headcount grew to 127,800 global employees, with 18,900 new hires in 2024. The engineering team expanded by 8,400 professionals, while sales and marketing added 4,200 personnel. Employee satisfaction scores reached 87%, up from 82% in 2023. The company invested $340 million in employee training and development programs.\n",
    "\n",
    "R&D investment totaled $4.7 billion (13.5% of revenue), focusing on quantum computing, artificial intelligence, cybersecurity, and sustainable technologies. The company filed 1,247 new patents in 2024, bringing the total patent portfolio to 8,934. Research facilities expanded to 23 locations across 12 countries.\n",
    "\n",
    "### Technology and Innovation Initiatives\n",
    "TechCorp's quantum computing division achieved several breakthroughs, including a 1000-qubit processor and room-temperature quantum storage. The AI research lab developed advanced large language models with 500 billion parameters. Sustainability initiatives included carbon-neutral data centers and 100% renewable energy usage by 2026.\n",
    "\n",
    "Strategic partnerships expanded to include collaborations with 47 universities and 23 government research institutions. The company established innovation hubs in Singapore, Tel Aviv, and Stockholm. Venture capital arm invested $280 million in 34 early-stage technology startups.\n",
    "\n",
    "### Market Position and Competitive Landscape\n",
    "TechCorp maintains its position as the second-largest enterprise software provider globally, behind Microsoft but ahead of Oracle and SAP. In cloud infrastructure, the company ranks fourth globally with 12.3% market share, trailing Amazon Web Services, Microsoft Azure, and Google Cloud Platform.\n",
    "\n",
    "The quantum computing market leadership position strengthened with 34% market share, ahead of IBM's 28% and Google's 19%. In cybersecurity solutions, TechCorp ranks third with 11.2% market share in the enterprise segment.\n",
    "\n",
    "### Geographic Revenue Distribution\n",
    "North America contributed 42% of revenue ($14.6 billion), growing 24% year-over-year. Europe, Middle East, and Africa (EMEA) generated 31% ($10.7 billion) with 28% growth. Asia-Pacific delivered exceptional performance with 27% of revenue ($9.4 billion) and 39% growth, driven by expansion in India, Japan, and Southeast Asia.\n",
    "\n",
    "### Future Outlook and Strategic Initiatives\n",
    "Management forecasts 2025 revenue of $43-46 billion, representing 24-33% growth. Software division expected to reach $16-17 billion, while cloud services projected to achieve $11-12 billion. The company plans to invest $6.2 billion in R&D, focusing on artificial general intelligence (AGI) research and quantum-classical computing integration.\n",
    "\n",
    "Capital expenditures planned at $3.8 billion for 2025, including new data centers, manufacturing facilities, and research labs. The company targets 40% of revenue from AI-related products by 2027, up from 28% in 2024. International expansion will focus on Latin America and emerging Asian markets.\n",
    "\n",
    "### Risk Factors and Mitigation Strategies\n",
    "Key challenges include intensified competition in AI from Google, OpenAI, and Meta, potential regulatory changes affecting data privacy and AI development, ongoing geopolitical tensions affecting global operations, and talent acquisition difficulties in specialized fields like quantum computing and AI research.\n",
    "\n",
    "Cybersecurity threats increased 67% in 2024, requiring enhanced security investments. Supply chain vulnerabilities persist for semiconductor components, leading to strategic stockpiling and supplier diversification. Climate change risks to data center operations prompted investments in resilient infrastructure and renewable energy sources.\n",
    "\n",
    "The company allocated $890 million for risk mitigation, including $340 million for supply chain diversification, $280 million for cybersecurity enhancements, and $270 million for regulatory compliance and legal contingencies.\n",
    "\n",
    "### Environmental, Social, and Governance (ESG)\n",
    "TechCorp achieved carbon neutrality for Scope 1 and 2 emissions in 2024, two years ahead of schedule. Renewable energy now powers 94% of operations. Water usage decreased 23% through efficiency improvements. The company recycled 89% of electronic waste through certified programs.\n",
    "\n",
    "Board diversity improved with 40% women and 30% underrepresented minorities. Executive compensation aligned with ESG targets, with 25% of bonuses tied to sustainability metrics. Community investment reached $47 million, supporting STEM education and digital literacy programs in underserved communities.\n",
    "\n",
    "### Financial Statements Summary\n",
    "Balance sheet strength improved with total assets of $48.3 billion, up from $39.7 billion in 2023. Shareholders' equity reached $31.2 billion. Long-term debt decreased to $8.9 billion from $10.1 billion. Book value per share increased to $89.34, representing 21% growth.\n",
    "\n",
    "Cash flow from operations of $8.2 billion provided strong funding for growth investments. Free cash flow reached $5.4 billion after capital expenditures of $2.8 billion. The company returned $2.1 billion to shareholders through $1.3 billion in dividends and $800 million in share repurchases.\n",
    "\"\"\""
   ]
  },
  {
   "cell_type": "markdown",
   "metadata": {},
   "source": [
    "Place the core constraints \"extract numbers only\" and \"source citation required\" at the beginning and end of the prompt so that instructions can be followed well even in long document contexts."
   ]
  },
  {
   "cell_type": "code",
   "execution_count": 120,
   "metadata": {},
   "outputs": [
    {
     "name": "stdout",
     "output_type": "stream",
     "text": [
      "Revenue: $34.7 billion (Source: Executive Summary)  \n",
      "Growth Rate: 28% (Source: Executive Summary)  \n",
      "Software Division Revenue: $12.8 billion (Source: Revenue Breakdown by Division)  \n",
      "Software Division Growth Rate: 35% (Source: Revenue Breakdown by Division)  \n",
      "Hardware Division Revenue: $10.2 billion (Source: Revenue Breakdown by Division)  \n",
      "Hardware Division Growth Rate: 22% (Source: Revenue Breakdown by Division)  \n",
      "Cloud Services Revenue: $7.8 billion (Source: Revenue Breakdown by Division)  \n",
      "Cloud Services Growth Rate: 41% (Source: Revenue Breakdown by Division)  \n",
      "Consulting Services Revenue: $3.9 billion (Source: Revenue Breakdown by Division)  \n",
      "Consulting Services Growth Rate: 18% (Source: Revenue Breakdown by Division)\n"
     ]
    }
   ],
   "source": [
    "response = client.chat.completions.create(\n",
    "   model=\"solar-pro2\",\n",
    "   messages=[\n",
    "       {\n",
    "           \"role\": \"system\",\n",
    "           \"content\": f\"\"\"=== CRITICAL: Extract Numbers Only ===\n",
    "\n",
    "# Role  \n",
    "You are a financial data extraction specialist.\n",
    "\n",
    "# Context Documents\n",
    "<document>\n",
    "{DOCUMENT}\n",
    "</document>\n",
    "\n",
    "# Instructions\n",
    "Extract ONLY numerical data from the provided document. Return numbers with their units but NO explanatory text.\n",
    "\n",
    "# MANDATORY Format\n",
    "- Use this exact format: Revenue: $34.7 billion (Source: Executive Summary)\n",
    "- Include dollar amounts, percentages, and growth rates ONLY\n",
    "- No sentences, descriptions, or analysis\n",
    "- One number per line\n",
    "\n",
    "=== REMINDER: Numbers Only ===\n",
    "Extract financial figures without any explanatory text or analysis.\"\"\"\n",
    "       },\n",
    "       {\n",
    "           \"role\": \"user\", \n",
    "           \"content\": \"\"\"Extract TechCorp's 2024 total revenue, growth rate, and revenue breakdown by division with their growth rates.\"\"\"\n",
    "       }\n",
    "   ],\n",
    "   max_tokens=8000,\n",
    "   temperature=0.1,\n",
    "   reasoning_effort=\"high\"\n",
    ")\n",
    "\n",
    "print(response.choices[0].message.content)"
   ]
  },
  {
   "cell_type": "markdown",
   "metadata": {
    "vscode": {
     "languageId": "raw"
    }
   },
   "source": [
    "---\n",
    "\n",
    "## **6. Common Issues and Solutions**\n",
    "\n",
    "### **6.1 Ambiguous Responses**\n",
    "\n",
    "**❌ Problem:** Unclear or inconsistent answers\n",
    "\n",
    "This is a problem situation where unclear analysis criteria in prompts cause the model to provide inconsistent and ambiguous responses. The system prompt simply provides abstract instructions like \"analyze data and provide insights,\" and the user prompt also asks vague questions like \"what do you think about our sales\" without specific context or analysis criteria. As a result, the model doesn't know from what perspective to analyze or what criteria to evaluate, leading to different responses each time for the same data or providing non-specific, generic answers."
   ]
  },
  {
   "cell_type": "code",
   "execution_count": 21,
   "metadata": {},
   "outputs": [
    {
     "name": "stdout",
     "output_type": "stream",
     "text": [
      "With a revenue of $500K from 200 customers, the average revenue per customer is $2,500, indicating a strong per-customer value. A churn rate of 5% is relatively low, suggesting good customer retention and stability in recurring revenue. To grow, consider strategies to increase customer acquisition or upselling to existing customers while maintaining the low churn.\n"
     ]
    }
   ],
   "source": [
    "response = client.chat.completions.create(\n",
    "   model=\"solar-pro2\",\n",
    "   messages=[\n",
    "       {\n",
    "           \"role\": \"system\",\n",
    "           \"content\": \"\"\"Analyze the data and provide insights in three sentences.\"\"\"\n",
    "       },\n",
    "       {\n",
    "           \"role\": \"user\",\n",
    "           \"content\": \"\"\"What do you think about our sales? Revenue: $500K, customers: 200, churn: 5%\"\"\"\n",
    "       }\n",
    "   ],\n",
    "   max_tokens=400,\n",
    "   temperature=0.5,\n",
    "   reasoning_effort=\"low\"\n",
    ")\n",
    "\n",
    "print(response.choices[0].message.content)"
   ]
  },
  {
   "cell_type": "markdown",
   "metadata": {},
   "source": [
    "**✅ Solution:** Provide specific instructions and sufficient context\n",
    "\n",
    "Ambiguous responses occur when the model cannot accurately understand user requirements due to insufficient instructions. The key is to provide specific and detailed instructions for the tasks the model should perform.\n",
    "It's also important to provide sufficient context to the model. Rather than simply presenting data, include background information necessary for the model to perform tasks, such as business situations, industry standards, and goals."
   ]
  },
  {
   "cell_type": "code",
   "execution_count": 22,
   "metadata": {},
   "outputs": [
    {
     "name": "stdout",
     "output_type": "stream",
     "text": [
      "1. **Revenue per Customer**: The current revenue per customer is **$2,500** ($500K ÷ 200 customers), which is a baseline metric for assessing pricing and upsell opportunities.  \n",
      "2. **Churn Impact**: A 5% monthly churn rate equates to losing **10 customers/month** (5% of 200) and **$25K in monthly recurring revenue** ($2,500 × 10), severely hindering growth toward the $1M target.  \n",
      "3. **Priority Action**: **Reduce churn to 3% or below** (saving ~$15K/month) by implementing a customer success program focused on onboarding and proactive support, while simultaneously pursuing upsells to increase revenue per customer by **10–15%** to accelerate progress toward the $1M goal.\n"
     ]
    }
   ],
   "source": [
    "response = client.chat.completions.create(\n",
    "    model=\"solar-pro2\",\n",
    "    messages=[\n",
    "        {\n",
    "            \"role\": \"system\",\n",
    "            \"content\": \"\"\"# Role: Sales Performance Analyst\n",
    "\n",
    "# Required Analysis (exactly 3 sentences):\n",
    "1. **Revenue per Customer**: Calculate and assess ($500K ÷ 200 customers)\n",
    "2. **Churn Impact**: Evaluate 5% churn rate and monthly revenue loss\n",
    "3. **Priority Action**: Recommend most critical improvement with specific target\n",
    "\n",
    "Use specific numbers and clear recommendations.\"\"\"\n",
    "        },\n",
    "        {\n",
    "            \"role\": \"user\",\n",
    "            \"content\": \"\"\"## Current Metrics\n",
    "- Monthly revenue: $500K\n",
    "- Active customers: 200\n",
    "- Monthly churn rate: 5%\n",
    "\n",
    "## Business Context\n",
    "- Industry: B2B SaaS (project management tools)\n",
    "- Company stage: Series A startup\n",
    "- Target: $1M monthly revenue by year-end\n",
    "\n",
    "## Question\n",
    "What's your performance assessment with specific recommendations?\"\"\"\n",
    "        }\n",
    "    ],\n",
    "    max_tokens=400,\n",
    "    temperature=0.3,\n",
    "    reasoning_effort=\"low\"\n",
    ")\n",
    "\n",
    "print(response.choices[0].message.content)"
   ]
  },
  {
   "cell_type": "markdown",
   "metadata": {
    "vscode": {
     "languageId": "raw"
    }
   },
   "source": [
    "### **6.2 Inconsistent Output Format**\n",
    "\n",
    "**❌ Problem:** Output different from requested format\n",
    "\n",
    "This is a problem where the model responds in plain text or other formats despite requesting output in JSON format or specific structure. Accurate format is essential especially in API integration, data processing, and automation systems, but ambiguous format instructions can cause parsing errors or system failures. For example, cases where you request \"respond in JSON\" but the model outputs with explanatory text, or responds in a different form from the requested key structure.\n"
   ]
  },
  {
   "cell_type": "code",
   "execution_count": 143,
   "metadata": {},
   "outputs": [
    {
     "name": "stdout",
     "output_type": "stream",
     "text": [
      "Here is the analysis of the customer feedback in JSON format:\n",
      "\n",
      "```json\n",
      "{\n",
      "  \"feedback\": \"Great product but expensive pricing\",\n",
      "  \"rating\": {\n",
      "    \"score\": 4,\n",
      "    \"out_of\": 5,\n",
      "    \"sentiment\": \"positive\"\n",
      "  },\n",
      "  \"aspects\": [\n",
      "    {\n",
      "      \"aspect\": \"Product Quality\",\n",
      "      \"sentiment\": \"positive\",\n",
      "      \"confidence\": 0.95,\n",
      "      \"keywords\": [\"Great product\"]\n",
      "    },\n",
      "    {\n",
      "      \"aspect\": \"Pricing\",\n",
      "      \"sentiment\": \"negative\",\n",
      "      \"confidence\": 0.85,\n",
      "      \"keywords\": [\"expensive pricing\"]\n",
      "    }\n",
      "  ],\n",
      "  \"overall_sentiment\": \"mixed\",\n",
      "  \"recommendation\": \"Consider addressing pricing concerns while maintaining product quality to improve overall satisfaction\"\n",
      "}\n",
      "``` \n",
      "\n",
      "### Breakdown of the analysis:\n",
      "1. **Overall Sentiment**: Mixed (positive product experience but negative pricing sentiment)\n",
      "2. **Product Quality**: Strongly positive (\"Great product\")\n",
      "3. **Pricing**: Negative concern (\"expensive pricing\")\n",
      "4. **Rating**: 4/5 indicates high satisfaction despite one major drawback\n",
      "5. **Actionable Insight**: The business should explore ways to justify the pricing (e.g., adding value) or consider tiered pricing options while maintaining the product's quality.\n"
     ]
    }
   ],
   "source": [
    "response = client.chat.completions.create(\n",
    "   model=\"solar-pro2\",\n",
    "   messages=[\n",
    "       {\n",
    "           \"role\": \"system\",\n",
    "           \"content\": \"\"\"Return the analysis in JSON format\"\"\"\n",
    "       },\n",
    "       {\n",
    "           \"role\": \"user\",\n",
    "           \"content\": \"\"\"Analyze customer feedback: \"Great product but expensive pricing\" - Rating: 4/5\"\"\"\n",
    "       }\n",
    "   ],\n",
    "   max_tokens=300,\n",
    "   temperature=0.7,\n",
    "   reasoning_effort=\"low\"\n",
    ")\n",
    "\n",
    "print(response.choices[0].message.content)"
   ]
  },
  {
   "cell_type": "markdown",
   "metadata": {},
   "source": [
    "**✅ Solution:** Provide accurate structure specifications and concrete examples\n",
    "\n",
    "Format inconsistencies often occur when output requirements are unclear or examples are insufficient. Rather than simply saying \"respond in JSON,\" clearly define key names, data types, required/optional fields, and specify constraints such as prohibiting additional explanatory text.\n",
    "\n",
    "Simply providing an `Output format example` can convey clear guidelines about exact output structure, key order, and value types to the model, greatly improving consistency. You can also set temperature low to require more strict format compliance."
   ]
  },
  {
   "cell_type": "code",
   "execution_count": 168,
   "metadata": {},
   "outputs": [
    {
     "name": "stdout",
     "output_type": "stream",
     "text": [
      "{\"sentiment_score\":4,\"sentiment_label\":\"positive\",\"main_topics\":[\"Product Quality\",\"Pricing\"],\"improvement_area\":\"Pricing\",\"confidence_level\":0.92}\n"
     ]
    }
   ],
   "source": [
    "response = client.chat.completions.create(\n",
    "   model=\"solar-pro2\",\n",
    "   messages=[\n",
    "       {\n",
    "           \"role\": \"system\",\n",
    "           \"content\": \"\"\"Return the analysis in JSON format without any explanation.\n",
    "Return ONLY a valid JSON object with these EXACT keys:\n",
    "{\n",
    "\"sentiment_score\": number (1-5 scale),\n",
    "\"sentiment_label\": string (\"positive\" or \"negative\" or \"neutral\"),\n",
    "\"main_topics\": array of strings (max 3 items),\n",
    "\"improvement_area\": string (single most critical issue),\n",
    "\"confidence_level\": number (0.0-1.0)\n",
    "}\n",
    "#Output Format Example\n",
    "{\"sentiment_score\":3,\"sentiment_label\":\"neutral\",\"main_topics\":[\"Service Speed\",\"Staff Attitude\"],\"improvement_area\":\"Response Time\",\"confidence_level\":0.78}\"\"\"\n",
    "       },\n",
    "       {\n",
    "           \"role\": \"user\",\n",
    "           \"content\": \"\"\"Analyze customer feedback: \"Great product but expensive pricing\" - Rating: 4/5\"\"\"\n",
    "       }\n",
    "   ],\n",
    "   max_tokens=300,\n",
    "   temperature=0.3,\n",
    "   reasoning_effort=\"low\"\n",
    ")\n",
    "\n",
    "print(response.choices[0].message.content)"
   ]
  },
  {
   "cell_type": "markdown",
   "metadata": {
    "vscode": {
     "languageId": "raw"
    }
   },
   "source": [
    "### **6.3 Instruction Non-compliance**\n",
    "\n",
    "**❌ Problem:** Incomplete answers with missing requested components or essential sections\n",
    "\n",
    "Instruction non-compliance occurs when some requirements are overlooked in complex requests or when there's no systematic verification process. In the academic writing conversion example below, the model is prone to performing only some rules because various editing rules must be applied simultaneously."
   ]
  },
  {
   "cell_type": "code",
   "execution_count": 25,
   "metadata": {},
   "outputs": [
    {
     "name": "stdout",
     "output_type": "stream",
     "text": [
      "The results demonstrate a significant correlation between the variables. The findings support the initial hypothesis, validating the proposed relationship. Analysis of the data reveals a robust association, thereby substantiating the hypothesized connection. The empirical evidence aligns with theoretical expectations, confirming the validity of the posited framework.  \n",
      "\n",
      "(Note: The response adheres to academic conventions by eliminating first-person pronouns, employing active voice where appropriate, and using precise terminology. The tone remains formal and objective, avoiding colloquial expressions.)\n"
     ]
    }
   ],
   "source": [
    "response = client.chat.completions.create(\n",
    "  model=\"solar-pro2\",\n",
    "  messages=[\n",
    "      {\n",
    "          \"role\": \"system\",\n",
    "          \"content\": \"\"\"Convert text to academic writing style: use active voice, remove first-person pronouns, replace informal terms with precise academic vocabulary, and maintain formal tone without any explanation\"\"\"\n",
    "      },\n",
    "      {\n",
    "          \"role\": \"user\",\n",
    "          \"content\": \"\"\"We think that the results show there's a clear connection between the variables. It's obvious that our hypothesis was right and we've proven our point. The data was analyzed by us and it shows that we're correct about this relationship.\"\"\"\n",
    "      }\n",
    "  ],\n",
    "  max_tokens=4000,\n",
    "  temperature=0.1,\n",
    "  reasoning_effort=\"high\"\n",
    ")\n",
    "\n",
    "print(response.choices[0].message.content)"
   ]
  },
  {
   "cell_type": "markdown",
   "metadata": {},
   "source": [
    "**✅ Solution:** Include work order and verification procedures\n",
    "\n",
    "For effective resolution, each academic writing task should be clearly distinguished and numbered, and specific conversion examples should be provided to prevent confusion. Also, use checklists to guide the model to self-verify whether all editing rules have been applied."
   ]
  },
  {
   "cell_type": "code",
   "execution_count": 23,
   "metadata": {},
   "outputs": [
    {
     "name": "stdout",
     "output_type": "stream",
     "text": [
      "The results indicate an evident correlation between the variables. The hypothesis is supported by the data, which demonstrates the validity of the proposed relationship. Analysis of the data reveals a statistically significant relationship, validating the initial hypothesis.\n"
     ]
    }
   ],
   "source": [
    "response = client.chat.completions.create(\n",
    " model=\"solar-pro2\",\n",
    " messages=[\n",
    "     {\n",
    "         \"role\": \"system\",\n",
    "         \"content\": \"\"\"# MANDATORY Academic Writing Requirements\n",
    "\n",
    "Apply ALL 4 editing rules to the text:\n",
    "\n",
    "## REQUIRED EDITING TASKS (ALL must be applied):\n",
    "1. **Voice Conversion**: Change all passive voice to active voice throughout\n",
    "2. **Pronoun Elimination**: Remove all first-person pronouns (I, we, our, us) and rewrite objectively\n",
    "3. **Vocabulary Precision**: Replace ALL informal/vague terms with specific academic language:\n",
    " - think → conclude/demonstrate/indicate\n",
    " - show → reveal/demonstrate/establish\n",
    " - connection → correlation/relationship\n",
    " - clear → evident/apparent\n",
    " - right → accurate/valid\n",
    "4. **Formality**: Convert contractions and casual language to formal academic standards\n",
    "\n",
    "# VERIFICATION CHECKLIST\n",
    "Before submitting, confirm ALL applied:\n",
    "□ All passive voice converted to active voice\n",
    "□ All first-person pronouns eliminated\n",
    "□ All informal terms replaced with academic vocabulary\n",
    "□ Formal academic tone maintained\n",
    "□ Only edited text provided\n",
    "\n",
    "## OUTPUT FORMAT:\n",
    "[Only response with edited text]\n",
    "\n",
    "CRITICAL: Never include any explanation\"\"\"\n",
    "     },\n",
    "     {\n",
    "         \"role\": \"user\",\n",
    "         \"content\": \"\"\"We think that the results show there's a clear connection between the variables. It's obvious that our hypothesis was right and we've proven our point. The data was analyzed by us and it shows that we're correct about this relationship.\"\"\"\n",
    "     }\n",
    " ],\n",
    " max_tokens=4000,\n",
    " temperature=0.1,\n",
    " reasoning_effort=\"high\"\n",
    ")\n",
    "\n",
    "print(response.choices[0].message.content)"
   ]
  },
  {
   "cell_type": "markdown",
   "metadata": {
    "vscode": {
     "languageId": "raw"
    }
   },
   "source": [
    "### **6.4 Hallucination**\n",
    "\n",
    "**❌ Problem:** Providing facts beyond given information or providing incorrect information\n",
    "\n",
    "This is a problem where the model presents definitive causes based on speculation or asserts specific solutions in chatbot responses to customer inquiries, even when clear causes cannot be identified. For example, when there's insufficient information to respond to feedback like \"the app crashes when uploading photos,\" the model definitively presents specific causes and asserts arbitrary solutions, which can give customers false expectations or lead to inappropriate solution attempts."
   ]
  },
  {
   "cell_type": "code",
   "execution_count": 187,
   "metadata": {},
   "outputs": [
    {
     "name": "stdout",
     "output_type": "stream",
     "text": [
      "I'm sorry to hear you're experiencing this issue! Let's troubleshoot the photo upload crash step by step:  \n",
      "\n",
      "1. **Check App Updates**  \n",
      "   Ensure you're using the latest app version. Outdated versions may have unresolved bugs—update via your device's app store.  \n",
      "\n",
      "2. **Free Up Storage Space**  \n",
      "   Low storage can cause crashes during uploads. Delete unnecessary files or apps to free up space, then try again.  \n",
      "\n",
      "3. **Try a Smaller/Simpler Photo**  \n",
      "   Large files or high-resolution images may overwhelm the app. Test with a smaller photo or compressed file (e.g., JPEG instead of RAW).  \n",
      "\n",
      "4. **Clear App Cache**  \n",
      "   - Go to **Settings > Apps > [Your App Name] > Storage > Clear Cache**.  \n",
      "   - If the issue persists, try **Clear Data** (note: this will log you out).  \n",
      "\n",
      "5. **Restart Your Device**  \n",
      "   Background processes might interfere. Restart your phone/tablet and reopen the app.  \n",
      "\n",
      "6. **Check Internet Connection**  \n",
      "   A unstable connection during uploads can trigger crashes. Ensure you're on a strong Wi-Fi/4G network.  \n",
      "\n",
      "7. **Reinstall the App**  \n",
      "   If crashes continue, uninstall and reinstall the app from the app store.  \n",
      "\n",
      "8. **Test on Another Device**  \n",
      "   If possible, try uploading the photo from a different device to isolate the issue.  \n",
      "\n",
      "If none of these steps work, please share:  \n",
      "- Your **device model** and **OS version**  \n",
      "- Whether the crash happens with **all photos** or specific ones  \n",
      "- A screenshot/error message (if available)  \n",
      "\n",
      "This will help us investigate further! 😊\n"
     ]
    }
   ],
   "source": [
    "response = client.chat.completions.create(\n",
    "   model=\"solar-pro2\",\n",
    "   messages=[\n",
    "       {\n",
    "           \"role\": \"system\",\n",
    "           \"content\": \"\"\"You are a customer support chatbot for a mobile app.\n",
    "\n",
    "# Known Technical Issues Context:\n",
    "- Login failures often occur due to incorrect credentials, expired sessions, browser cache issues, server maintenance, or account lockouts\n",
    "- Typical solutions include password reset, cache clearing, trying different browsers, or checking account status\n",
    "\n",
    "Provide helpful troubleshooting advice based on the customer's issue.\"\"\"\n",
    "       },\n",
    "       {\n",
    "           \"role\": \"user\",\n",
    "           \"content\": \"\"\"Customer message: \"The app keeps crashing every time I try to upload a photo. What's wrong?\".\"\"\"\n",
    "       }\n",
    "   ],\n",
    "   max_tokens=4000,\n",
    "   temperature=0.3,\n",
    "   reasoning_effort=\"high\"\n",
    ")\n",
    "\n",
    "print(response.choices[0].message.content)"
   ]
  },
  {
   "cell_type": "markdown",
   "metadata": {},
   "source": [
    "**✅ Solution:** Making it admit what it doesn't know\n",
    "\n",
    "Hallucination occurs when the model draws uncertain conclusions based on limited information or generates non-existent details. In customer support chatbots, providing incorrect information can particularly lead to customer dissatisfaction, requiring a cautious approach. For effective resolution, you should provide instructions to explicitly acknowledge uncertainty if exact causes cannot be identified. Guide the model to use qualified expressions like `I'm not sure of the exact cause` when it cannot answer within the given context."
   ]
  },
  {
   "cell_type": "code",
   "execution_count": 188,
   "metadata": {},
   "outputs": [
    {
     "name": "stdout",
     "output_type": "stream",
     "text": [
      "Sorry, I don't know the exact cause.\n"
     ]
    }
   ],
   "source": [
    "response = client.chat.completions.create(\n",
    "   model=\"solar-pro2\",\n",
    "   messages=[\n",
    "       {\n",
    "           \"role\": \"system\",\n",
    "           \"content\": \"\"\"You are a customer support chatbot for an e-commerce platform.\n",
    "\n",
    "# Known Technical Issues Context:\n",
    "- Login failures often occur due to incorrect credentials, expired sessions, browser cache issues, server maintenance, or account lockouts\n",
    "- Typical solutions include password reset, cache clearing, trying different browsers, or checking account status\n",
    "\n",
    "# VERIFICATION BEFORE RESPONDING:\n",
    "- Can I identify the specific cause from the customer's message? If NO → ONLY respond \"Sorry, I don't know the exact cause.\"\n",
    "- Am I about to guess or assume? If YES → ONLY respond \"Sorry, I don't know the exact cause.\"\n",
    "\n",
    "IMPORTANT: When the cause is unclear, admit uncertainty rather than guessing.\"\"\"\n",
    "       },\n",
    "       {\n",
    "           \"role\": \"user\",\n",
    "           \"content\": \"\"\"Customer message: \"The app keeps crashing every time I try to upload a photo. What's wrong?\".\"\"\"\n",
    "       }\n",
    "   ],\n",
    "   max_tokens=4000,\n",
    "   temperature=0.3,\n",
    "   reasoning_effort=\"high\"\n",
    ")\n",
    "\n",
    "print(response.choices[0].message.content)"
   ]
  },
  {
   "cell_type": "markdown",
   "metadata": {
    "vscode": {
     "languageId": "raw"
    }
   },
   "source": [
    "---\n",
    "\n",
    "## **7. Conclusion**\n",
    "\n",
    "solar-pro2 is a model that is highly responsive to clear and structured prompts. By systematically designing prompts following the principles in this guide, you can maximize the model's excellent performance.\n",
    "\n",
    "The key is clarity, structure, and specificity. Provide accurate instructions without ambiguity, compose prompts with logical structure, and include specific examples and verification steps to achieve consistent, high-quality results.\n",
    "\n",
    "We recommend developing prompts optimized for your specific use cases through continuous testing and improvement."
   ]
  }
 ],
 "metadata": {
  "kernelspec": {
   "display_name": ".venv",
   "language": "python",
   "name": "python3"
  },
  "language_info": {
   "codemirror_mode": {
    "name": "ipython",
    "version": 3
   },
   "file_extension": ".py",
   "mimetype": "text/x-python",
   "name": "python",
   "nbconvert_exporter": "python",
   "pygments_lexer": "ipython3",
   "version": "3.9.6"
  }
 },
 "nbformat": 4,
 "nbformat_minor": 2
}
